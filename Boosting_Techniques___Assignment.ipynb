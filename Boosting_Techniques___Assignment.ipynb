{
  "nbformat": 4,
  "nbformat_minor": 0,
  "metadata": {
    "colab": {
      "provenance": []
    },
    "kernelspec": {
      "name": "python3",
      "display_name": "Python 3"
    },
    "language_info": {
      "name": "python"
    }
  },
  "cells": [
    {
      "cell_type": "markdown",
      "source": [
        "# Boosting Techniques | Assignment\n",
        "---\n",
        "---"
      ],
      "metadata": {
        "id": "widm8ZR4RQnn"
      }
    },
    {
      "cell_type": "markdown",
      "metadata": {
        "id": "987c1ccc"
      },
      "source": [
        "Question 1: What is Boosting in Machine Learning? Explain how it improves weak learners.\n",
        "***\n",
        "Ans:- Boosting is an ensemble learning technique that aims to improve the performance of weak learners by combining them into a strong learner. Weak learners are models that perform slightly better than random guessing, such as shallow decision trees.\n",
        "\n",
        "The core idea behind boosting is to sequentially train a series of weak learners, where each subsequent learner focuses on correcting the errors made by the previous ones. This is typically done by assigning higher weights to the data points that were misclassified by the previous learners.\n",
        "\n",
        "Here's how boosting improves weak learners:\n",
        "\n",
        "1. **Sequential Learning:** Unlike bagging (another ensemble technique), boosting trains learners in a sequential manner. This allows each new learner to learn from the mistakes of the previous ones.\n",
        "2. **Focus on Difficult Examples:** By weighting misclassified data points more heavily, boosting forces subsequent learners to pay more attention to the examples that are harder to classify.\n",
        "3. **Reducing Bias and Variance:** Boosting primarily reduces bias by combining multiple weak learners. However, it can also help reduce variance to some extent.\n",
        "4. **Adaptive Weighting:** The weights assigned to the data points are adaptively adjusted based on the performance of the previous learners. This ensures that the boosting process focuses on the most challenging examples.\n",
        "\n",
        "Popular boosting algorithms include AdaBoost, Gradient Boosting, and XGBoost. These algorithms differ in how they weight the data points and combine the weak learners, but the underlying principle of sequential learning and focusing on difficult examples remains the same."
      ]
    },
    {
      "cell_type": "markdown",
      "metadata": {
        "id": "d2a682f9"
      },
      "source": [
        "Question 2: What is the difference between AdaBoost and Gradient Boosting in terms of how models are trained?\n",
        "***\n",
        "Ans:- Both AdaBoost and Gradient Boosting are popular boosting algorithms, but they differ in how they train the weak learners:\n",
        "\n",
        "**AdaBoost (Adaptive Boosting):**\n",
        "\n",
        "*   **Weighting Data Points:** AdaBoost focuses on adjusting the weights of the data points at each iteration. It assigns higher weights to the misclassified data points, forcing the next weak learner to focus on these difficult examples.\n",
        "*   **Updating Model Weights:** AdaBoost updates the weight of each weak learner based on its performance. Better-performing learners are given higher weights in the final ensemble.\n",
        "*   **Loss Function:** AdaBoost typically uses an exponential loss function.\n",
        "\n",
        "**Gradient Boosting:**\n",
        "\n",
        "*   **Boosting Residuals:** Gradient Boosting focuses on boosting the residuals (the errors) of the previous models. Each new weak learner is trained to predict the residuals of the ensemble built so far.\n",
        "*   **Gradient Descent:** Gradient Boosting uses gradient descent to minimize a loss function. It iteratively adds new weak learners that are trained on the negative gradient of the loss function with respect to the current ensemble's predictions.\n",
        "*   **Loss Function:** Gradient Boosting can use various differentiable loss functions, such as mean squared error (for regression) or log loss (for classification)."
      ]
    },
    {
      "cell_type": "markdown",
      "metadata": {
        "id": "899acede"
      },
      "source": [
        "Question 3: How does regularization help in XGBoost?\n",
        "***\n",
        "Ans:- XGBoost ( extreme Gradient Boosting) is a powerful and popular implementation of gradient boosting that incorporates regularization techniques to prevent overfitting and improve generalization performance. Regularization adds a penalty term to the objective function that the model tries to minimize during training. This penalty discourages the model from becoming too complex and fitting the training data too closely, which can lead to poor performance on unseen data.\n",
        "\n",
        "Here's how regularization helps in XGBoost:\n",
        "\n",
        "1.  **Prevents Overfitting:** Regularization limits the complexity of the individual trees and the overall model. This prevents the model from memorizing the training data and helps it generalize better to new, unseen data.\n",
        "2.  **Controls Tree Complexity:** XGBoost offers several regularization parameters that control the complexity of the trees, such as:\n",
        "    *   `gamma` (or `min_split_loss`): Controls the minimum loss reduction required to make a further partition on a leaf node of the tree. A higher `gamma` makes the algorithm more conservative.\n",
        "    *   `max_depth`: Limits the maximum depth of the individual trees.\n",
        "    *   `min_child_weight`: Defines the minimum sum of instance weight (hessian) needed in a child. If the tree partition step results in a leaf node with the sum of instance weight less than `min_child_weight`, the building process gives up further partitioning.\n",
        "3.  **L1 and L2 Regularization:** XGBoost supports both L1 (Lasso) and L2 (Ridge) regularization on the weights of the leaves.\n",
        "    *   **L1 regularization (`reg_alpha`):** Encourages sparsity in the leaf weights, effectively performing feature selection by pushing some weights to zero.\n",
        "    *   **L2 regularization (`reg_lambda`):** Shrinks the leaf weights towards zero, reducing their impact and making the model less sensitive to individual data points.\n",
        "4.  **Reduces Variance:** By limiting the complexity of the model, regularization helps reduce the variance of the predictions, making the model more stable and less prone to fluctuations due to small changes in the training data.\n",
        "5.  **Improves Generalization:** Ultimately, regularization helps XGBoost build models that generalize well to unseen data, leading to better performance on real-world problems."
      ]
    },
    {
      "cell_type": "markdown",
      "source": [
        "Question 4: Why is CatBoost considered efficient for handling categorical data?\n"
      ],
      "metadata": {
        "id": "6QdddSScTfFx"
      }
    },
    {
      "cell_type": "markdown",
      "metadata": {
        "id": "d8cba428"
      },
      "source": [
        "Question 4: Why is CatBoost considered efficient for handling categorical data?\n",
        "***\n",
        "Ans:- CatBoost is a gradient boosting library that stands out for its efficient and effective handling of categorical features. Traditional gradient boosting algorithms often require one-hot encoding or other preprocessing techniques for categorical variables, which can lead to increased dimensionality and potential issues like the \"curse of dimensionality.\" CatBoost addresses this by implementing innovative techniques specifically designed for categorical data.\n",
        "\n",
        "Here's why CatBoost is considered efficient for handling categorical data:\n",
        "\n",
        "1.  **Ordered Boosting:** CatBoost employs an \"ordered boosting\" scheme, which is a permutation-based approach to handle categorical features. Instead of using the same training data for all trees, it uses different permutations of the data to train each tree. This helps to avoid target leakage, where information from the target variable \"leaks\" into the features during the training process, especially when dealing with categorical features with many unique values.\n",
        "2.  **Oblivious Decision Trees:** CatBoost uses oblivious decision trees, where the same split is applied to all nodes at the same level of the tree. This structure helps to reduce overfitting and makes the model more robust.\n",
        "3.  **Categorical Feature Statistics:** CatBoost calculates statistics on categorical features during training to determine the best splits. It uses various techniques, such as:\n",
        "    *   **Ordered Target Statistics:** This is a key technique where the target mean is calculated for each category based on the ordered permutations of the data. This helps to avoid target leakage and provides a more robust representation of the categorical feature.\n",
        "    *   **One-Hot Encoding (for low cardinality):** For categorical features with a small number of unique values (low cardinality), CatBoost can still use one-hot encoding.\n",
        "4.  **Handling Combinations of Categorical Features:** CatBoost can automatically consider combinations of categorical features to capture more complex interactions in the data. This can improve the model's performance, especially when there are meaningful interactions between different categorical variables.\n",
        "5.  **Reduced Need for Preprocessing:** Due to its built-in handling of categorical features, CatBoost often reduces the need for extensive manual preprocessing, saving time and effort.\n"
      ]
    },
    {
      "cell_type": "markdown",
      "source": [],
      "metadata": {
        "id": "8EbVi9YdTxHb"
      }
    },
    {
      "cell_type": "markdown",
      "metadata": {
        "id": "5d7c8e70"
      },
      "source": [
        "Question 5: What are some real-world applications where boosting techniques are\n",
        "preferred over bagging methods?\n",
        "***\n",
        "Ans:- Boosting and bagging are both ensemble learning techniques that combine multiple models to improve predictive performance. However, they differ in their approach and the types of problems for which they are best suited. Boosting techniques are often preferred over bagging methods in certain real-world applications due to their ability to focus on difficult examples and reduce bias.\n",
        "\n",
        "Here are some real-world applications where boosting techniques are often preferred:\n",
        "\n",
        "1.  **Fraud Detection:** Boosting algorithms like XGBoost and LightGBM are widely used in fraud detection systems. They can effectively identify complex patterns and anomalies in large datasets, which is crucial for detecting fraudulent transactions. The ability of boosting to focus on misclassified instances (potential fraudulent activities) makes it particularly effective in this domain.\n",
        "2.  **Credit Risk Assessment:** In finance, boosting models are used to assess credit risk and predict the likelihood of loan defaults. By combining multiple weak learners, boosting can capture intricate relationships between various financial features and predict risk with higher accuracy than individual models or bagging methods.\n",
        "3.  **Customer Churn Prediction:** Boosting techniques are employed in customer relationship management (CRM) to predict customer churn. By analyzing customer behavior and demographics, boosting models can identify customers who are likely to leave and enable businesses to take proactive measures to retain them.\n",
        "4.  **Image and Speech Recognition:** While deep learning has revolutionized image and speech recognition, boosting techniques were historically used and can still be applied in certain scenarios, especially when dealing with smaller datasets or when interpretability is important. Boosting can help improve the accuracy of traditional feature-based methods.\n",
        "5.  **Search Ranking:** Boosting algorithms are used in search engines to rank web pages based on their relevance to a user's query. By combining various ranking signals, boosting can create a robust ranking model that provides accurate and relevant search results.\n",
        "6.  **Medical Diagnosis:** Boosting techniques can be applied in medical diagnosis to predict the likelihood of a disease based on patient data. By combining information from various medical tests and patient history, boosting models can assist doctors in making more accurate diagnoses.\n",
        "7.  **Recommendation Systems:** Boosting can be used in recommendation systems to predict user preferences and recommend relevant items. By analyzing user behavior and item features, boosting models can generate personalized recommendations that improve user engagement."
      ]
    },
    {
      "cell_type": "markdown",
      "source": [
        "Question 6: Write a Python program to:\n",
        "* Train an AdaBoost Classifier on the Breast Cancer dataset\n",
        "* Print the model accuracy\n",
        "\n",
        "Datasets:\n",
        "* Use sklearn.datasets.load_breast_cancer() for classification tasks.\n",
        "* Use sklearn.datasets.fetch_california_housing() for regression tasks.\n",
        "***"
      ],
      "metadata": {
        "id": "cPvLaSZKUOvD"
      }
    },
    {
      "cell_type": "code",
      "metadata": {
        "colab": {
          "base_uri": "https://localhost:8080/"
        },
        "id": "901e8b73",
        "outputId": "aa9f6c45-703e-4bf0-b54c-0cbd04e565dc"
      },
      "source": [
        "from sklearn.datasets import load_breast_cancer\n",
        "from sklearn.model_selection import train_test_split\n",
        "from sklearn.ensemble import AdaBoostClassifier\n",
        "from sklearn.metrics import accuracy_score\n",
        "\n",
        "# Load the Breast Cancer dataset\n",
        "breast_cancer = load_breast_cancer()\n",
        "X = breast_cancer.data\n",
        "y = breast_cancer.target\n",
        "\n",
        "# Split the dataset into training and testing sets\n",
        "X_train, X_test, y_train, y_test = train_test_split(X, y, test_size=0.2, random_state=42)\n",
        "\n",
        "# Initialize and train the AdaBoost Classifier\n",
        "adaboost = AdaBoostClassifier(n_estimators=100, random_state=42)\n",
        "adaboost.fit(X_train, y_train)\n",
        "\n",
        "# Predict on the test set\n",
        "y_pred = adaboost.predict(X_test)\n",
        "\n",
        "# Calculate and print the accuracy\n",
        "accuracy = accuracy_score(y_test, y_pred)\n",
        "print(f\"AdaBoost Classifier Accuracy: {accuracy:.4f}\")"
      ],
      "execution_count": 1,
      "outputs": [
        {
          "output_type": "stream",
          "name": "stdout",
          "text": [
            "AdaBoost Classifier Accuracy: 0.9737\n"
          ]
        }
      ]
    },
    {
      "cell_type": "markdown",
      "source": [
        "Question 7: Write a Python program to:\n",
        "* Train a Gradient Boosting Regressor on the California Housing dataset\n",
        "* Evaluate performance using R-squared score\n",
        "***"
      ],
      "metadata": {
        "id": "9SIkM2zgUz4W"
      }
    },
    {
      "cell_type": "code",
      "metadata": {
        "colab": {
          "base_uri": "https://localhost:8080/"
        },
        "id": "4b0ba0b0",
        "outputId": "05f9c070-4f48-4956-ec6b-9a61dd7f019a"
      },
      "source": [
        "from sklearn.datasets import fetch_california_housing\n",
        "from sklearn.model_selection import train_test_split\n",
        "from sklearn.ensemble import GradientBoostingRegressor\n",
        "from sklearn.metrics import r2_score\n",
        "\n",
        "# Load the California Housing dataset\n",
        "california_housing = fetch_california_housing()\n",
        "X = california_housing.data\n",
        "y = california_housing.target\n",
        "\n",
        "# Split the dataset into training and testing sets\n",
        "X_train, X_test, y_train, y_test = train_test_split(X, y, test_size=0.2, random_state=42)\n",
        "\n",
        "# Initialize and train the Gradient Boosting Regressor\n",
        "gbr = GradientBoostingRegressor(n_estimators=100, learning_rate=0.1, max_depth=3, random_state=42)\n",
        "gbr.fit(X_train, y_train)\n",
        "\n",
        "# Predict on the test set\n",
        "y_pred = gbr.predict(X_test)\n",
        "\n",
        "# Calculate and print the R-squared score\n",
        "r2 = r2_score(y_test, y_pred)\n",
        "print(f\"Gradient Boosting Regressor R-squared Score: {r2:.4f}\")"
      ],
      "execution_count": 2,
      "outputs": [
        {
          "output_type": "stream",
          "name": "stdout",
          "text": [
            "Gradient Boosting Regressor R-squared Score: 0.7756\n"
          ]
        }
      ]
    },
    {
      "cell_type": "markdown",
      "source": [
        "Question 8: Write a Python program to:\n",
        "* Train an XGBoost Classifier on the Breast Cancer dataset\n",
        "* Tune the learning rate using GridSearchCV\n",
        "* Print the best parameters and accuracy\n",
        "***"
      ],
      "metadata": {
        "id": "1BJ5fiXnVI_n"
      }
    },
    {
      "cell_type": "code",
      "source": [
        "import xgboost as xgb\n",
        "from sklearn.datasets import load_breast_cancer\n",
        "from sklearn.model_selection import GridSearchCV, train_test_split\n",
        "from sklearn.metrics import accuracy_score\n",
        "\n",
        "# Load Breast Cancer dataset\n",
        "data = load_breast_cancer()\n",
        "X, y = data.data, data.target\n",
        "\n",
        "# Train-test split\n",
        "X_train, X_test, y_train, y_test = train_test_split(X, y, test_size=0.2, random_state=42, stratify=y)\n",
        "\n",
        "# Define XGBoost Classifier\n",
        "xgb_clf = xgb.XGBClassifier(use_label_encoder=False, eval_metric=\"logloss\", random_state=42)\n",
        "\n",
        "# Define parameter grid for learning_rate tuning\n",
        "param_grid = {\n",
        "    'learning_rate': [0.01, 0.05, 0.1, 0.2, 0.3]\n",
        "}\n",
        "\n",
        "# GridSearchCV\n",
        "grid_search = GridSearchCV(estimator=xgb_clf,\n",
        "                           param_grid=param_grid,\n",
        "                           scoring='accuracy',\n",
        "                           cv=5,\n",
        "                           verbose=1,\n",
        "                           n_jobs=-1)\n",
        "\n",
        "grid_search.fit(X_train, y_train)\n",
        "\n",
        "# Best parameters\n",
        "print(\"Best Parameters:\", grid_search.best_params_)\n",
        "\n",
        "# Evaluate on test set\n",
        "best_model = grid_search.best_estimator_\n",
        "y_pred = best_model.predict(X_test)\n",
        "accuracy = accuracy_score(y_test, y_pred)\n",
        "print(\"Test Accuracy:\", accuracy)\n"
      ],
      "metadata": {
        "colab": {
          "base_uri": "https://localhost:8080/"
        },
        "id": "8QZlKpMEWFvU",
        "outputId": "5cc1346c-5d60-4bdc-88a8-c7f810e74a41"
      },
      "execution_count": 8,
      "outputs": [
        {
          "output_type": "stream",
          "name": "stdout",
          "text": [
            "Fitting 5 folds for each of 5 candidates, totalling 25 fits\n"
          ]
        },
        {
          "output_type": "stream",
          "name": "stderr",
          "text": [
            "/usr/local/lib/python3.12/dist-packages/xgboost/training.py:183: UserWarning: [15:42:56] WARNING: /workspace/src/learner.cc:738: \n",
            "Parameters: { \"use_label_encoder\" } are not used.\n",
            "\n",
            "  bst.update(dtrain, iteration=i, fobj=obj)\n"
          ]
        },
        {
          "output_type": "stream",
          "name": "stdout",
          "text": [
            "Best Parameters: {'learning_rate': 0.1}\n",
            "Test Accuracy: 0.9473684210526315\n"
          ]
        }
      ]
    },
    {
      "cell_type": "markdown",
      "source": [
        "Question 9: Write a Python program to:\n",
        "* Train a CatBoost Classifier\n",
        "* Plot the confusion matrix using seaborn\n",
        "***"
      ],
      "metadata": {
        "id": "IrkHosAsWVW5"
      }
    },
    {
      "cell_type": "code",
      "source": [
        "from catboost import CatBoostClassifier\n",
        "from sklearn.datasets import load_breast_cancer\n",
        "from sklearn.model_selection import train_test_split\n",
        "from sklearn.metrics import confusion_matrix, accuracy_score\n",
        "import seaborn as sns\n",
        "import matplotlib.pyplot as plt\n",
        "\n",
        "# Load dataset\n",
        "data = load_breast_cancer()\n",
        "X, y = data.data, data.target\n",
        "\n",
        "# Train-test split\n",
        "X_train, X_test, y_train, y_test = train_test_split(\n",
        "    X, y, test_size=0.2, random_state=42, stratify=y\n",
        ")\n",
        "\n",
        "# Define and train CatBoost Classifier\n",
        "model = CatBoostClassifier(verbose=0, random_state=42)\n",
        "model.fit(X_train, y_train)\n",
        "\n",
        "# Predictions\n",
        "y_pred = model.predict(X_test)\n",
        "\n",
        "# Accuracy\n",
        "acc = accuracy_score(y_test, y_pred)\n",
        "print(\"Test Accuracy:\", acc)\n",
        "\n",
        "# Confusion Matrix\n",
        "cm = confusion_matrix(y_test, y_pred)\n",
        "\n",
        "# Plot using seaborn\n",
        "plt.figure(figsize=(6, 4))\n",
        "sns.heatmap(cm, annot=True, fmt=\"d\", cmap=\"Blues\",\n",
        "            xticklabels=data.target_names,\n",
        "            yticklabels=data.target_names)\n",
        "plt.xlabel(\"Predicted\")\n",
        "plt.ylabel(\"Actual\")\n",
        "plt.title(\"Confusion Matrix - CatBoost Classifier\")\n",
        "plt.show()"
      ],
      "metadata": {
        "colab": {
          "base_uri": "https://localhost:8080/",
          "height": 427
        },
        "id": "8rQGFV1lXICJ",
        "outputId": "f81fe015-5b82-4fc5-b676-eb36490c018c"
      },
      "execution_count": 17,
      "outputs": [
        {
          "output_type": "stream",
          "name": "stdout",
          "text": [
            "Test Accuracy: 0.956140350877193\n"
          ]
        },
        {
          "output_type": "display_data",
          "data": {
            "text/plain": [
              "<Figure size 600x400 with 2 Axes>"
            ],
            "image/png": "[encoded data removed]"
          },
          "metadata": {}
        }
      ]
    },
    {
      "cell_type": "markdown",
      "source": [
        "Question 10: You're working for a FinTech company trying to predict loan default using customer demographics and transaction behavior.\n",
        "\n",
        "The dataset is imbalanced, contains missing values, and has both numeric and\n",
        "categorical features.\n",
        "\n",
        "Describe your step-by-step data science pipeline using boosting techniques:\n",
        "* Data preprocessing & handling missing/categorical values\n",
        "* Choice between AdaBoost, XGBoost, or CatBoost\n",
        "* Hyperparameter tuning strategy\n",
        "* Evaluation metrics you'd choose and why\n",
        "* How the business would benefit from your model\n",
        "***"
      ],
      "metadata": {
        "id": "bVvs3-tTXULw"
      }
    },
    {
      "cell_type": "markdown",
      "source": [
        "# Step 1: Data Preprocessing\n",
        "\n",
        "1. **Handle Missing Values**\n",
        "  \n",
        "   * Numeric features: impute using median (robust against outliers).\n",
        "\n",
        "   * Categorical features: impute with most frequent value or add a “Missing” category.\n",
        "\n",
        "   * If using CatBoost, it can natively handle missing values without imputation.\n",
        "\n",
        "2. **Encoding Categorical Variables**\n",
        "\n",
        "   * One-hot encoding: if using XGBoost or AdaBoost.\n",
        "\n",
        "   * Target encoding / CatBoost encoding: CatBoost directly handles categorical features efficiently.\n",
        "\n",
        "3. **Scaling**\n",
        "\n",
        "   * Not mandatory for boosting, but standardization can help if there are extreme numeric ranges.\n",
        "\n",
        "4. **Dealing with Imbalanced Data**\n",
        "\n",
        "   * Use SMOTE / ADASYN (synthetic oversampling) or undersampling.\n",
        "\n",
        "   * Alternatively, use boosting algorithms with scale_pos_weight (XGBoost) or class_weights (CatBoost).\n",
        "___\n",
        "# Step 2: Choice of Boosting Algorithm\n",
        "\n",
        "* AdaBoost: Simple but less effective for highly imbalanced datasets.\n",
        "\n",
        "* XGBoost: Great for numeric + categorical (after encoding), handles imbalance via scale_pos_weight.\n",
        "\n",
        "* CatBoost : Best choice here because:\n",
        "\n",
        "   * Handles categorical variables directly.\n",
        "\n",
        "   * Handles missing values internally.\n",
        "\n",
        "   * Provides class weights for imbalance.\n",
        "\n",
        "Final choice: CatBoost Classifier.\n",
        "___\n",
        "**Step 3: Hyperparameter Tuning Strategy**\n",
        "\n",
        "Use GridSearchCV or RandomizedSearchCV (faster) with cross-validation (StratifiedKFold).\n",
        "\n",
        "Key parameters to tune:\n",
        "* learning_rate → controls step size (0.01–0.2 range).\n",
        "* depth → tree depth (4–10 typical).\n",
        "* iterations → number of boosting rounds (500–2000).\n",
        "* l2_leaf_reg → regularization (1–10).\n",
        "* class_weights → to handle imbalance (e.g., {0:1, 1:5}).\n",
        "\n",
        "Use Bayesian Optimization (Optuna, Hyperopt) for more efficient tuning in production.\n",
        "___\n",
        "**Step 4: Evaluation Metrics**\n",
        "\n",
        "Since the dataset is imbalanced, accuracy is misleading. Prefer:\n",
        "* AUC-ROC → ability to rank defaults higher than non-defaults.\n",
        "* Precision, Recall, F1-score → especially recall (catching defaulters is critical).\n",
        "* Confusion Matrix → to see trade-off between false positives & false negatives.\n",
        "* PR AUC (Precision-Recall curve) → more informative than ROC when dataset is highly imbalanced.\n",
        "\n",
        "Primary Metric: Recall or F1-score (depending on business priority).\n",
        "___\n",
        "**Step 5: Business Benefits**\n",
        "1. Better Risk Management → Identifying high-risk applicants reduces loan defaults.\n",
        "2. Profitability → Approving more reliable borrowers increases repayment rates.\n",
        "3. Customer Segmentation → Helps design personalized interest rates and repayment plans.\n",
        "4. Regulatory Compliance → Transparent and data-driven loan approval improves trust.\n",
        "5. Scalability → Model can be deployed in real-time credit scoring systems."
      ],
      "metadata": {
        "id": "z57oobWiZ6D_"
      }
    }
  ]
}